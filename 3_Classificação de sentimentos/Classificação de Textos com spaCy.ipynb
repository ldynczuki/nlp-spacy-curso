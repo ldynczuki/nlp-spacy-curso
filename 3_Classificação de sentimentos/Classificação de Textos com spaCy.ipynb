{
 "cells": [
  {
   "cell_type": "markdown",
   "metadata": {},
   "source": [
    "# **Classificação de textos com spaCy**"
   ]
  },
  {
   "cell_type": "markdown",
   "metadata": {},
   "source": [
    "### **Etapa 1: Importação e instalação das bibliotecas**"
   ]
  },
  {
   "cell_type": "code",
   "execution_count": 1,
   "metadata": {},
   "outputs": [],
   "source": [
    "# Já instalado na env_nlp que foi utilizada para o curso atual\n",
    "# !pip install spacy==2.2.3"
   ]
  },
  {
   "cell_type": "code",
   "execution_count": 2,
   "metadata": {},
   "outputs": [
    {
     "data": {
      "text/plain": [
       "'2.2.3'"
      ]
     },
     "execution_count": 2,
     "metadata": {},
     "output_type": "execute_result"
    }
   ],
   "source": [
    "import spacy\n",
    "spacy.__version__"
   ]
  },
  {
   "cell_type": "code",
   "execution_count": 3,
   "metadata": {},
   "outputs": [],
   "source": [
    "# pacotes da língua portuguesa já baixado e instalado na env_nlp\n",
    "# !python3 -m spacy download pt"
   ]
  },
  {
   "cell_type": "code",
   "execution_count": 4,
   "metadata": {},
   "outputs": [],
   "source": [
    "import pandas as pd\n",
    "import string  # biblioteca para pré-processamento\n",
    "import spacy\n",
    "import random  # biblioteca para números aleatórios\n",
    "import seaborn as sns  # biblioteca para geração de gráficos\n",
    "import numpy as np"
   ]
  },
  {
   "cell_type": "markdown",
   "metadata": {},
   "source": [
    "### **Etapa 2: Carregamento da base de dados**"
   ]
  },
  {
   "cell_type": "code",
   "execution_count": 5,
   "metadata": {},
   "outputs": [],
   "source": [
    "base_dados = pd.read_csv('/home/lucas/Documentos/Cursos/Udemy/Processamento de Linguagem Natural com spaCy e Python/1_Introdução/base_treinamento.txt', encoding='utf-8')"
   ]
  },
  {
   "cell_type": "code",
   "execution_count": 6,
   "metadata": {},
   "outputs": [
    {
     "data": {
      "text/plain": [
       "(196, 2)"
      ]
     },
     "execution_count": 6,
     "metadata": {},
     "output_type": "execute_result"
    }
   ],
   "source": [
    "base_dados.shape"
   ]
  },
  {
   "cell_type": "code",
   "execution_count": 8,
   "metadata": {},
   "outputs": [
    {
     "data": {
      "text/html": [
       "<div>\n",
       "<style scoped>\n",
       "    .dataframe tbody tr th:only-of-type {\n",
       "        vertical-align: middle;\n",
       "    }\n",
       "\n",
       "    .dataframe tbody tr th {\n",
       "        vertical-align: top;\n",
       "    }\n",
       "\n",
       "    .dataframe thead th {\n",
       "        text-align: right;\n",
       "    }\n",
       "</style>\n",
       "<table border=\"1\" class=\"dataframe\">\n",
       "  <thead>\n",
       "    <tr style=\"text-align: right;\">\n",
       "      <th></th>\n",
       "      <th>texto</th>\n",
       "      <th>emocao</th>\n",
       "    </tr>\n",
       "  </thead>\n",
       "  <tbody>\n",
       "    <tr>\n",
       "      <th>0</th>\n",
       "      <td>este trabalho é agradável</td>\n",
       "      <td>alegria</td>\n",
       "    </tr>\n",
       "    <tr>\n",
       "      <th>1</th>\n",
       "      <td>gosto de ficar no seu aconchego</td>\n",
       "      <td>alegria</td>\n",
       "    </tr>\n",
       "    <tr>\n",
       "      <th>2</th>\n",
       "      <td>fiz a adesão ao curso hoje</td>\n",
       "      <td>alegria</td>\n",
       "    </tr>\n",
       "    <tr>\n",
       "      <th>3</th>\n",
       "      <td>eu sou admirada por muitos</td>\n",
       "      <td>alegria</td>\n",
       "    </tr>\n",
       "    <tr>\n",
       "      <th>4</th>\n",
       "      <td>adoro como você</td>\n",
       "      <td>alegria</td>\n",
       "    </tr>\n",
       "  </tbody>\n",
       "</table>\n",
       "</div>"
      ],
      "text/plain": [
       "                             texto   emocao\n",
       "0        este trabalho é agradável  alegria\n",
       "1  gosto de ficar no seu aconchego  alegria\n",
       "2       fiz a adesão ao curso hoje  alegria\n",
       "3       eu sou admirada por muitos  alegria\n",
       "4                  adoro como você  alegria"
      ]
     },
     "execution_count": 8,
     "metadata": {},
     "output_type": "execute_result"
    }
   ],
   "source": [
    "base_dados.head()"
   ]
  },
  {
   "cell_type": "code",
   "execution_count": 9,
   "metadata": {},
   "outputs": [
    {
     "data": {
      "text/html": [
       "<div>\n",
       "<style scoped>\n",
       "    .dataframe tbody tr th:only-of-type {\n",
       "        vertical-align: middle;\n",
       "    }\n",
       "\n",
       "    .dataframe tbody tr th {\n",
       "        vertical-align: top;\n",
       "    }\n",
       "\n",
       "    .dataframe thead th {\n",
       "        text-align: right;\n",
       "    }\n",
       "</style>\n",
       "<table border=\"1\" class=\"dataframe\">\n",
       "  <thead>\n",
       "    <tr style=\"text-align: right;\">\n",
       "      <th></th>\n",
       "      <th>texto</th>\n",
       "      <th>emocao</th>\n",
       "    </tr>\n",
       "  </thead>\n",
       "  <tbody>\n",
       "    <tr>\n",
       "      <th>191</th>\n",
       "      <td>estou chocado e amedrontado com este assassina...</td>\n",
       "      <td>medo</td>\n",
       "    </tr>\n",
       "    <tr>\n",
       "      <th>192</th>\n",
       "      <td>é preciso afugenta com ímpeto este medo do inf...</td>\n",
       "      <td>medo</td>\n",
       "    </tr>\n",
       "    <tr>\n",
       "      <th>193</th>\n",
       "      <td>políticos usam suas forças para afugentar e am...</td>\n",
       "      <td>medo</td>\n",
       "    </tr>\n",
       "    <tr>\n",
       "      <th>194</th>\n",
       "      <td>o objetivo disso e apenas me amedrontar mais</td>\n",
       "      <td>medo</td>\n",
       "    </tr>\n",
       "    <tr>\n",
       "      <th>195</th>\n",
       "      <td>isso me apavora</td>\n",
       "      <td>medo</td>\n",
       "    </tr>\n",
       "  </tbody>\n",
       "</table>\n",
       "</div>"
      ],
      "text/plain": [
       "                                                 texto emocao\n",
       "191  estou chocado e amedrontado com este assassina...   medo\n",
       "192  é preciso afugenta com ímpeto este medo do inf...   medo\n",
       "193  políticos usam suas forças para afugentar e am...   medo\n",
       "194       o objetivo disso e apenas me amedrontar mais   medo\n",
       "195                                    isso me apavora   medo"
      ]
     },
     "execution_count": 9,
     "metadata": {},
     "output_type": "execute_result"
    }
   ],
   "source": [
    "base_dados.tail()"
   ]
  },
  {
   "cell_type": "code",
   "execution_count": 15,
   "metadata": {},
   "outputs": [
    {
     "data": {
      "image/png": "[encoded data removed]",
      "text/plain": [
       "<Figure size 432x288 with 1 Axes>"
      ]
     },
     "metadata": {
      "needs_background": "light"
     },
     "output_type": "display_data"
    }
   ],
   "source": [
    "# o ponto e vírgula no final do código funciona para 'limpar' o gráfico abaixo de textos inseridos\n",
    "sns.countplot(base_dados['emocao'], label='Contagem');"
   ]
  },
  {
   "cell_type": "markdown",
   "metadata": {},
   "source": [
    "### **Etapa 3: Função para pré-processamento dos textos**"
   ]
  },
  {
   "cell_type": "code",
   "execution_count": 16,
   "metadata": {},
   "outputs": [
    {
     "data": {
      "text/plain": [
       "'!\"#$%&\\'()*+,-./:;<=>?@[\\\\]^_`{|}~'"
      ]
     },
     "execution_count": 16,
     "metadata": {},
     "output_type": "execute_result"
    }
   ],
   "source": [
    "pontuacoes = string.punctuation\n",
    "pontuacoes"
   ]
  },
  {
   "cell_type": "code",
   "execution_count": 17,
   "metadata": {},
   "outputs": [],
   "source": [
    "from spacy.lang.pt.stop_words import STOP_WORDS\n",
    "stop_words = STOP_WORDS"
   ]
  },
  {
   "cell_type": "code",
   "execution_count": 25,
   "metadata": {},
   "outputs": [
    {
     "name": "stdout",
     "output_type": "stream",
     "text": [
      "{'que', 'quando', 'número', 'segundo', 'inicio', 'naquela', 'maioria', 'pouca', 'tu', 'nova', 'conhecida', 'põe', 'fazeis', 'quinze', 'nesse', 'primeira', 'segunda', 'valor', 'sistema', 'quanto', 'oitavo', 'cedo', 'estará', 'direita', 'deste', 'sétima', 'podem', 'diante', 'posição', 'sempre', 'seria', 'até', 'dezanove', 'terceira', 'lá', 'aquele', 'nossa', 'forma', 'você', 'quem', 'foste', 'mil', 'cada', 'faço', 'somos', 'os', 'nada', 'vinda', 'nossos', 'apenas', 'estive', 'vossas', 'duas', 'menor', 'na', 'sete', 'antes', 'tais', 'cima', 'primeiro', 'oito', 'enquanto', 'demais', 'és', 'meus', 'novas', 'sétimo', 'dezasseis', 'meio', 'sobre', 'no', 'custa', 'esta', 'as', 'ela', 'tivestes', 'nuns', 'seis', 'corrente', 'aqueles', 'povo', 'sua', 'quê', 'longe', 'muitos', 'ver', 'tendes', 'bastante', 'todas', 'irá', 'têm', 'posso', 'são', 'qual', 'todo', 'zero', 'esteve', 'sem', 'área', 'tudo', 'sexto', 'pelo', 'ser', 'me', 'tivemos', 'estes', 'eventual', 'apoia', 'quarto', 'vai', 'doze', 'só', 'ligado', 'podia', 'tentei', 'numa', 'seus', 'deve', 'aquela', 'pelas', 'fim', 'estás', 'perto', 'bom', 'próprio', 'falta', 'tenho', 'outros', 'vosso', 'foram', 'dar', 'aquilo', 'cuja', 'vários', 'nunca', 'sim', 'seu', 'conselho', 'contra', 'daquela', 'este', 'exemplo', 'quais', 'números', 'nessa', 'minha', 'dois', 'tanto', 'eu', 'isso', 'fez', 'contudo', 'toda', 'das', 'ambas', 'puderam', 'portanto', 'essa', 'fora', 'favor', 'aí', 'às', 'embora', 'ao', 'outras', 'nem', 'mas', 'tentar', 'conhecido', 'à', 'onze', 'tens', 'assim', 'vos', 'também', 'após', 'porquê', 'é', 'ir', 'vais', 'debaixo', 'dezoito', 'estivemos', 'nosso', 'suas', 'teus', 'cento', 'novo', 'oitava', 'faz', 'te', 'vêm', 'grande', 'tiveram', 'sei', 'minhas', 'mal', 'pois', 'boa', 'está', 'catorze', 'quero', 'sou', 'último', 'tipo', 'des', 'lugar', 'nível', 'estiveram', 'devem', 'essas', 'maior', 'dos', 'estava', 'teu', 'possivelmente', 'qualquer', 'num', 'momento', 'teve', 'poder', 'não', 'desse', 'tal', 'vez', 'estão', 'estiveste', 'inclusive', 'meses', 'sob', 'menos', 'próxima', 'vossos', 'pela', 'neste', 'fazia', 'dessa', 'somente', 'dentro', 'próximo', 'apontar', 'naquele', 'final', 'atrás', 'isto', 'vem', 'mesmo', 'terceiro', 'dão', 'tentaram', 'vocês', 'coisa', 'nos', 'fará', 'cinco', 'então', 'quinto', 'dezassete', 'muito', 'da', 'lhe', 'baixo', 'vinte', 'sexta', 'meu', 'eles', 'daquele', 'adeus', 'quatro', 'desta', 'sabe', 'nós', 'comprido', 'dizer', 'geral', 'pode', 'umas', 'certeza', 'pelos', 'breve', 'nas', 'tua', 'além', 'iniciar', 'grupo', 'ademais', 'vezes', 'certamente', 'tempo', 'diz', 'tarde', 'alguns', 'estou', 'lado', 'fui', 'todos', 'partir', 'ali', 'veja', 'questão', 'querem', 'nove', 'dez', 'ora', 'esses', 'tão', 'parece', 'pegar', 'bem', 'agora', 'uns', 'ele', 'estivestes', 'nenhuma', 'ainda', 'aquelas', 'vós', 'apoio', 'pôde', 'ambos', 'sois', 'vens', 'por', 'em', 'ontem', 'vossa', 'com', 'temos', 'fazem', 'quinta', 'quarta', 'caminho', 'porquanto', 'poderá', 'fazes', 'treze', 'mais', 'tuas', 'estar', 'três', 'maiorias', 'porém', 'fazer', 'possível', 'usar', 'se', 'depois', 'ou', 'uma', 'quieto', 'põem', 'nossas', 'tem', 'um', 'desde', 'tente', 'for', 'nesta', 'talvez', 'cá', 'vindo', 'do', 'aos', 'esse', 'foi', 'relação', 'como', 'pontos', 'dizem', 'grandes', 'aqui', 'dá', 'pouco', 'quer', 'parte', 'comprida', 'obrigada', 'ponto', 'elas', 'tanta', 'quieta', 'porque', 'era', 'estado', 'fomos', 'obrigado', 'mês', 'máximo', 'estas', 'fazemos', 'local', 'novos', 'deverá', 'algo', 'outra', 'cujo', 'de', 'onde', 'acerca', 'tive', 'vão', 'disso', 'para', 'logo', 'fostes', 'já', 'ter', 'tiveste', 'saber', 'usa', 'entre', 'através', 'algumas'}\n"
     ]
    }
   ],
   "source": [
    "print(stop_words)"
   ]
  },
  {
   "cell_type": "code",
   "execution_count": 19,
   "metadata": {},
   "outputs": [
    {
     "data": {
      "text/plain": [
       "413"
      ]
     },
     "execution_count": 19,
     "metadata": {},
     "output_type": "execute_result"
    }
   ],
   "source": [
    "len(stop_words)"
   ]
  },
  {
   "cell_type": "code",
   "execution_count": 20,
   "metadata": {},
   "outputs": [],
   "source": [
    "# carregando o modelo de pln (natural language process) padrão do spacy para a variável pln\n",
    "pln = spacy.load('pt')"
   ]
  },
  {
   "cell_type": "code",
   "execution_count": 21,
   "metadata": {},
   "outputs": [
    {
     "data": {
      "text/plain": [
       "<spacy.lang.pt.Portuguese at 0x7ff121ff4240>"
      ]
     },
     "execution_count": 21,
     "metadata": {},
     "output_type": "execute_result"
    }
   ],
   "source": [
    "pln"
   ]
  },
  {
   "cell_type": "code",
   "execution_count": 30,
   "metadata": {},
   "outputs": [],
   "source": [
    "def preprocessamento(texto):\n",
    "    texto = texto.lower()\n",
    "    documento = pln(texto)\n",
    "    \n",
    "    lista = []\n",
    "    for token in documento:\n",
    "        # lista.append(token.text)\n",
    "        lista.append(token.lemma_)\n",
    "    \n",
    "    lista = [palavra for palavra in lista if palavra not in stop_words and palavra not in pontuacoes]\n",
    "    lista = ' '.join([str(elemento) for elemento in lista if not elemento.isdigit()])\n",
    "    \n",
    "    return lista"
   ]
  },
  {
   "cell_type": "code",
   "execution_count": 31,
   "metadata": {},
   "outputs": [
    {
     "data": {
      "text/plain": [
       "'aprender processamento linguagem natural cursar curitiba'"
      ]
     },
     "execution_count": 31,
     "metadata": {},
     "output_type": "execute_result"
    }
   ],
   "source": [
    "teste = preprocessamento('Estou aPrendendo 1 10 23 processamento de linguagem natural, Curso em Curitiba')\n",
    "teste"
   ]
  },
  {
   "cell_type": "markdown",
   "metadata": {},
   "source": [
    "### **Etapa 4: Pré-processamento da base de dados**"
   ]
  },
  {
   "cell_type": "markdown",
   "metadata": {},
   "source": [
    "#### Limpeza dos textos"
   ]
  },
  {
   "cell_type": "code",
   "execution_count": 32,
   "metadata": {},
   "outputs": [
    {
     "data": {
      "text/html": [
       "<div>\n",
       "<style scoped>\n",
       "    .dataframe tbody tr th:only-of-type {\n",
       "        vertical-align: middle;\n",
       "    }\n",
       "\n",
       "    .dataframe tbody tr th {\n",
       "        vertical-align: top;\n",
       "    }\n",
       "\n",
       "    .dataframe thead th {\n",
       "        text-align: right;\n",
       "    }\n",
       "</style>\n",
       "<table border=\"1\" class=\"dataframe\">\n",
       "  <thead>\n",
       "    <tr style=\"text-align: right;\">\n",
       "      <th></th>\n",
       "      <th>texto</th>\n",
       "      <th>emocao</th>\n",
       "    </tr>\n",
       "  </thead>\n",
       "  <tbody>\n",
       "    <tr>\n",
       "      <th>0</th>\n",
       "      <td>este trabalho é agradável</td>\n",
       "      <td>alegria</td>\n",
       "    </tr>\n",
       "    <tr>\n",
       "      <th>1</th>\n",
       "      <td>gosto de ficar no seu aconchego</td>\n",
       "      <td>alegria</td>\n",
       "    </tr>\n",
       "    <tr>\n",
       "      <th>2</th>\n",
       "      <td>fiz a adesão ao curso hoje</td>\n",
       "      <td>alegria</td>\n",
       "    </tr>\n",
       "    <tr>\n",
       "      <th>3</th>\n",
       "      <td>eu sou admirada por muitos</td>\n",
       "      <td>alegria</td>\n",
       "    </tr>\n",
       "    <tr>\n",
       "      <th>4</th>\n",
       "      <td>adoro como você</td>\n",
       "      <td>alegria</td>\n",
       "    </tr>\n",
       "    <tr>\n",
       "      <th>5</th>\n",
       "      <td>adoro seu cabelo macio</td>\n",
       "      <td>alegria</td>\n",
       "    </tr>\n",
       "    <tr>\n",
       "      <th>6</th>\n",
       "      <td>adoro a cor dos seus olhos</td>\n",
       "      <td>alegria</td>\n",
       "    </tr>\n",
       "    <tr>\n",
       "      <th>7</th>\n",
       "      <td>somo tão amáveis um com o outro</td>\n",
       "      <td>alegria</td>\n",
       "    </tr>\n",
       "    <tr>\n",
       "      <th>8</th>\n",
       "      <td>sinto uma grande afeição por ele</td>\n",
       "      <td>alegria</td>\n",
       "    </tr>\n",
       "    <tr>\n",
       "      <th>9</th>\n",
       "      <td>quero agradar meus filhos</td>\n",
       "      <td>alegria</td>\n",
       "    </tr>\n",
       "  </tbody>\n",
       "</table>\n",
       "</div>"
      ],
      "text/plain": [
       "                              texto   emocao\n",
       "0         este trabalho é agradável  alegria\n",
       "1   gosto de ficar no seu aconchego  alegria\n",
       "2        fiz a adesão ao curso hoje  alegria\n",
       "3        eu sou admirada por muitos  alegria\n",
       "4                   adoro como você  alegria\n",
       "5            adoro seu cabelo macio  alegria\n",
       "6        adoro a cor dos seus olhos  alegria\n",
       "7   somo tão amáveis um com o outro  alegria\n",
       "8  sinto uma grande afeição por ele  alegria\n",
       "9         quero agradar meus filhos  alegria"
      ]
     },
     "execution_count": 32,
     "metadata": {},
     "output_type": "execute_result"
    }
   ],
   "source": [
    "base_dados.head(10)"
   ]
  },
  {
   "cell_type": "code",
   "execution_count": 33,
   "metadata": {},
   "outputs": [],
   "source": [
    "base_dados['texto'] = base_dados['texto'].apply(preprocessamento)"
   ]
  },
  {
   "cell_type": "code",
   "execution_count": 34,
   "metadata": {},
   "outputs": [
    {
     "data": {
      "text/html": [
       "<div>\n",
       "<style scoped>\n",
       "    .dataframe tbody tr th:only-of-type {\n",
       "        vertical-align: middle;\n",
       "    }\n",
       "\n",
       "    .dataframe tbody tr th {\n",
       "        vertical-align: top;\n",
       "    }\n",
       "\n",
       "    .dataframe thead th {\n",
       "        text-align: right;\n",
       "    }\n",
       "</style>\n",
       "<table border=\"1\" class=\"dataframe\">\n",
       "  <thead>\n",
       "    <tr style=\"text-align: right;\">\n",
       "      <th></th>\n",
       "      <th>texto</th>\n",
       "      <th>emocao</th>\n",
       "    </tr>\n",
       "  </thead>\n",
       "  <tbody>\n",
       "    <tr>\n",
       "      <th>0</th>\n",
       "      <td>trabalhar agradável</td>\n",
       "      <td>alegria</td>\n",
       "    </tr>\n",
       "    <tr>\n",
       "      <th>1</th>\n",
       "      <td>gostar ficar o aconchegar</td>\n",
       "      <td>alegria</td>\n",
       "    </tr>\n",
       "    <tr>\n",
       "      <th>2</th>\n",
       "      <td>o adesão o o cursar hoje</td>\n",
       "      <td>alegria</td>\n",
       "    </tr>\n",
       "    <tr>\n",
       "      <th>3</th>\n",
       "      <td>admirar</td>\n",
       "      <td>alegria</td>\n",
       "    </tr>\n",
       "    <tr>\n",
       "      <th>4</th>\n",
       "      <td>adorar comer</td>\n",
       "      <td>alegria</td>\n",
       "    </tr>\n",
       "    <tr>\n",
       "      <th>5</th>\n",
       "      <td>adorar cabelar maciar</td>\n",
       "      <td>alegria</td>\n",
       "    </tr>\n",
       "    <tr>\n",
       "      <th>6</th>\n",
       "      <td>adorar o cor olho</td>\n",
       "      <td>alegria</td>\n",
       "    </tr>\n",
       "    <tr>\n",
       "      <th>7</th>\n",
       "      <td>somar amável o outro</td>\n",
       "      <td>alegria</td>\n",
       "    </tr>\n",
       "    <tr>\n",
       "      <th>8</th>\n",
       "      <td>sentir umar afeição</td>\n",
       "      <td>alegria</td>\n",
       "    </tr>\n",
       "    <tr>\n",
       "      <th>9</th>\n",
       "      <td>querer agradar filho</td>\n",
       "      <td>alegria</td>\n",
       "    </tr>\n",
       "  </tbody>\n",
       "</table>\n",
       "</div>"
      ],
      "text/plain": [
       "                       texto   emocao\n",
       "0        trabalhar agradável  alegria\n",
       "1  gostar ficar o aconchegar  alegria\n",
       "2   o adesão o o cursar hoje  alegria\n",
       "3                    admirar  alegria\n",
       "4               adorar comer  alegria\n",
       "5      adorar cabelar maciar  alegria\n",
       "6          adorar o cor olho  alegria\n",
       "7       somar amável o outro  alegria\n",
       "8        sentir umar afeição  alegria\n",
       "9       querer agradar filho  alegria"
      ]
     },
     "execution_count": 34,
     "metadata": {},
     "output_type": "execute_result"
    }
   ],
   "source": [
    "base_dados.head(10)"
   ]
  },
  {
   "cell_type": "markdown",
   "metadata": {},
   "source": [
    "#### Tratamento da classe"
   ]
  },
  {
   "cell_type": "code",
   "execution_count": 37,
   "metadata": {},
   "outputs": [],
   "source": [
    "exemplo_base_dados =[['este trabalho é agradável', {\"ALEGRIA\": True, \"MEDO\": False}],\n",
    "                     ['este lugar continua assustador', {\"ALEGRIA\": False, \"MEDO\": True}]]"
   ]
  },
  {
   "cell_type": "code",
   "execution_count": 39,
   "metadata": {},
   "outputs": [
    {
     "data": {
      "text/plain": [
       "list"
      ]
     },
     "execution_count": 39,
     "metadata": {},
     "output_type": "execute_result"
    }
   ],
   "source": [
    "type(exemplo_base_dados)"
   ]
  },
  {
   "cell_type": "code",
   "execution_count": 40,
   "metadata": {},
   "outputs": [
    {
     "data": {
      "text/plain": [
       "['este trabalho é agradável', {'ALEGRIA': True, 'MEDO': False}]"
      ]
     },
     "execution_count": 40,
     "metadata": {},
     "output_type": "execute_result"
    }
   ],
   "source": [
    "exemplo_base_dados[0]"
   ]
  },
  {
   "cell_type": "code",
   "execution_count": 41,
   "metadata": {},
   "outputs": [
    {
     "data": {
      "text/plain": [
       "'este trabalho é agradável'"
      ]
     },
     "execution_count": 41,
     "metadata": {},
     "output_type": "execute_result"
    }
   ],
   "source": [
    "exemplo_base_dados[0][0]"
   ]
  },
  {
   "cell_type": "code",
   "execution_count": 42,
   "metadata": {},
   "outputs": [
    {
     "data": {
      "text/plain": [
       "{'ALEGRIA': True, 'MEDO': False}"
      ]
     },
     "execution_count": 42,
     "metadata": {},
     "output_type": "execute_result"
    }
   ],
   "source": [
    "exemplo_base_dados[0][1]"
   ]
  },
  {
   "cell_type": "code",
   "execution_count": 43,
   "metadata": {},
   "outputs": [
    {
     "data": {
      "text/plain": [
       "dict"
      ]
     },
     "execution_count": 43,
     "metadata": {},
     "output_type": "execute_result"
    }
   ],
   "source": [
    "type(exemplo_base_dados[0][1])"
   ]
  },
  {
   "cell_type": "code",
   "execution_count": 48,
   "metadata": {},
   "outputs": [],
   "source": [
    "base_dados_final = []\n",
    "for texto, emocao in zip(base_dados['texto'], base_dados['emocao']):\n",
    "    # print(texto, emocao)\n",
    "    if emocao == 'alegria':\n",
    "        dic = ({'ALEGRIA': True, 'MEDO': False})\n",
    "    elif emocao == 'medo':\n",
    "        dic = ({'ALEGRIA': False, 'MEDO': True})\n",
    "    \n",
    "    base_dados_final.append([texto, dic.copy()])"
   ]
  },
  {
   "cell_type": "code",
   "execution_count": 49,
   "metadata": {},
   "outputs": [
    {
     "data": {
      "text/plain": [
       "196"
      ]
     },
     "execution_count": 49,
     "metadata": {},
     "output_type": "execute_result"
    }
   ],
   "source": [
    "len(base_dados_final)"
   ]
  },
  {
   "cell_type": "code",
   "execution_count": 50,
   "metadata": {},
   "outputs": [
    {
     "data": {
      "text/plain": [
       "['trabalhar agradável', {'ALEGRIA': True, 'MEDO': False}]"
      ]
     },
     "execution_count": 50,
     "metadata": {},
     "output_type": "execute_result"
    }
   ],
   "source": [
    "base_dados_final[0]"
   ]
  },
  {
   "cell_type": "code",
   "execution_count": 51,
   "metadata": {},
   "outputs": [
    {
     "data": {
      "text/plain": [
       "'trabalhar agradável'"
      ]
     },
     "execution_count": 51,
     "metadata": {},
     "output_type": "execute_result"
    }
   ],
   "source": [
    "base_dados_final[0][0]"
   ]
  },
  {
   "cell_type": "code",
   "execution_count": 52,
   "metadata": {},
   "outputs": [
    {
     "data": {
      "text/plain": [
       "{'ALEGRIA': True, 'MEDO': False}"
      ]
     },
     "execution_count": 52,
     "metadata": {},
     "output_type": "execute_result"
    }
   ],
   "source": [
    "base_dados_final[0][1]"
   ]
  },
  {
   "cell_type": "code",
   "execution_count": 53,
   "metadata": {},
   "outputs": [
    {
     "data": {
      "text/plain": [
       "dict"
      ]
     },
     "execution_count": 53,
     "metadata": {},
     "output_type": "execute_result"
    }
   ],
   "source": [
    "type(base_dados_final[0][1])"
   ]
  },
  {
   "cell_type": "code",
   "execution_count": 54,
   "metadata": {},
   "outputs": [
    {
     "data": {
      "text/plain": [
       "[['trabalhar agradável', {'ALEGRIA': True, 'MEDO': False}],\n",
       " ['gostar ficar o aconchegar', {'ALEGRIA': True, 'MEDO': False}],\n",
       " ['o adesão o o cursar hoje', {'ALEGRIA': True, 'MEDO': False}],\n",
       " ['admirar', {'ALEGRIA': True, 'MEDO': False}],\n",
       " ['adorar comer', {'ALEGRIA': True, 'MEDO': False}],\n",
       " ['adorar cabelar maciar', {'ALEGRIA': True, 'MEDO': False}],\n",
       " ['adorar o cor olho', {'ALEGRIA': True, 'MEDO': False}],\n",
       " ['somar amável o outro', {'ALEGRIA': True, 'MEDO': False}],\n",
       " ['sentir umar afeição', {'ALEGRIA': True, 'MEDO': False}],\n",
       " ['querer agradar filho', {'ALEGRIA': True, 'MEDO': False}],\n",
       " ['sentir completamente amar', {'ALEGRIA': True, 'MEDO': False}],\n",
       " ['amar', {'ALEGRIA': True, 'MEDO': False}],\n",
       " ['alívio', {'ALEGRIA': True, 'MEDO': False}],\n",
       " ['o dor amenizar finalmente', {'ALEGRIA': True, 'MEDO': False}],\n",
       " ['achar apaixonar', {'ALEGRIA': True, 'MEDO': False}],\n",
       " ['amar maravilhoso', {'ALEGRIA': True, 'MEDO': False}],\n",
       " ['sentir animar', {'ALEGRIA': True, 'MEDO': False}],\n",
       " ['sentir hoje', {'ALEGRIA': True, 'MEDO': False}],\n",
       " ['comer o luar belo', {'ALEGRIA': True, 'MEDO': False}],\n",
       " ['o dia bonito', {'ALEGRIA': True, 'MEDO': False}],\n",
       " ['comer afortunar', {'ALEGRIA': True, 'MEDO': False}],\n",
       " ['o maravilhar mundo', {'ALEGRIA': True, 'MEDO': False}],\n",
       " ['receber caro hoje colega', {'ALEGRIA': True, 'MEDO': False}],\n",
       " ['sentir reconfortar hoje', {'ALEGRIA': True, 'MEDO': False}],\n",
       " ['o amigo', {'ALEGRIA': True, 'MEDO': False}],\n",
       " ['contentar o resultar teste', {'ALEGRIA': True, 'MEDO': False}],\n",
       " ['pintura brilhante', {'ALEGRIA': True, 'MEDO': False}],\n",
       " ['água abundância', {'ALEGRIA': True, 'MEDO': False}],\n",
       " ['roupar delicado', {'ALEGRIA': True, 'MEDO': False}],\n",
       " ['comediante', {'ALEGRIA': True, 'MEDO': False}],\n",
       " ['bondade o suar', {'ALEGRIA': True, 'MEDO': False}],\n",
       " ['o amor lindar', {'ALEGRIA': True, 'MEDO': False}],\n",
       " ['amizade durar parir', {'ALEGRIA': True, 'MEDO': False}],\n",
       " ['eufórico o notícia', {'ALEGRIA': True, 'MEDO': False}],\n",
       " ['realmente fiel o mim', {'ALEGRIA': True, 'MEDO': False}],\n",
       " ['umar festa parir comemorar aniversário', {'ALEGRIA': True, 'MEDO': False}],\n",
       " ['graça o deus enxergar o certar', {'ALEGRIA': True, 'MEDO': False}],\n",
       " ['o melhor escolher', {'ALEGRIA': True, 'MEDO': False}],\n",
       " ['o incrível belo', {'ALEGRIA': True, 'MEDO': False}],\n",
       " ['engraçar explicar', {'ALEGRIA': True, 'MEDO': False}],\n",
       " ['emocionante n', {'ALEGRIA': True, 'MEDO': False}],\n",
       " ['cativar pelar olhar', {'ALEGRIA': True, 'MEDO': False}],\n",
       " ['loucamente apaixonar', {'ALEGRIA': True, 'MEDO': False}],\n",
       " ['dúvida', {'ALEGRIA': True, 'MEDO': False}],\n",
       " ['rodear pelar abraçar', {'ALEGRIA': True, 'MEDO': False}],\n",
       " ['estrelo pelar caminhar', {'ALEGRIA': True, 'MEDO': False}],\n",
       " ['sentir o sol', {'ALEGRIA': True, 'MEDO': False}],\n",
       " ['sorrir orelhar o orelhar', {'ALEGRIA': True, 'MEDO': False}],\n",
       " ['valer o peno', {'ALEGRIA': True, 'MEDO': False}],\n",
       " ['finalmente colocar amor', {'ALEGRIA': True, 'MEDO': False}],\n",
       " ['nó dançar noite adentrar', {'ALEGRIA': True, 'MEDO': False}],\n",
       " ['amor brilhante', {'ALEGRIA': True, 'MEDO': False}],\n",
       " ['tocar coração durante o caminhar', {'ALEGRIA': True, 'MEDO': False}],\n",
       " ['suar amigo e companheiro', {'ALEGRIA': True, 'MEDO': False}],\n",
       " ['trazer voltar o vidar', {'ALEGRIA': True, 'MEDO': False}],\n",
       " ['e comer sonhar doce', {'ALEGRIA': True, 'MEDO': False}],\n",
       " ['adorar doce frutar', {'ALEGRIA': True, 'MEDO': False}],\n",
       " ['suco favorito', {'ALEGRIA': True, 'MEDO': False}],\n",
       " ['agradecido pelar ajudar', {'ALEGRIA': True, 'MEDO': False}],\n",
       " ['enorme prazer equipar', {'ALEGRIA': True, 'MEDO': False}],\n",
       " ['trabalhar equipar o melhor', {'ALEGRIA': True, 'MEDO': False}],\n",
       " ['sentir flutuar o ar', {'ALEGRIA': True, 'MEDO': False}],\n",
       " ['o brisa agradável hoje', {'ALEGRIA': True, 'MEDO': False}],\n",
       " ['ótimo e compatível', {'ALEGRIA': True, 'MEDO': False}],\n",
       " ['compatível o outro', {'ALEGRIA': True, 'MEDO': False}],\n",
       " ['o órgão compatível o paciente', {'ALEGRIA': True, 'MEDO': False}],\n",
       " ['contentar aceito o faculdade', {'ALEGRIA': True, 'MEDO': False}],\n",
       " ['aprovar o exame', {'ALEGRIA': True, 'MEDO': False}],\n",
       " ['beneficiar pelar empresar', {'ALEGRIA': True, 'MEDO': False}],\n",
       " ['cativante', {'ALEGRIA': True, 'MEDO': False}],\n",
       " ['contentar o apoiar', {'ALEGRIA': True, 'MEDO': False}],\n",
       " ['comer e confortável', {'ALEGRIA': True, 'MEDO': False}],\n",
       " ['e quentar n frio', {'ALEGRIA': True, 'MEDO': False}],\n",
       " ['elogiar e', {'ALEGRIA': True, 'MEDO': False}],\n",
       " ['chamar parir comemorar', {'ALEGRIA': True, 'MEDO': False}],\n",
       " ['desejável o suar presença apresentação', {'ALEGRIA': True, 'MEDO': False}],\n",
       " ['grato o', {'ALEGRIA': True, 'MEDO': False}],\n",
       " ['dedicar n', {'ALEGRIA': True, 'MEDO': False}],\n",
       " ['completamente apaixonar', {'ALEGRIA': True, 'MEDO': False}],\n",
       " ['agitar noite', {'ALEGRIA': True, 'MEDO': False}],\n",
       " ['significar parir mim', {'ALEGRIA': True, 'MEDO': False}],\n",
       " ['agir preconceito e julgamento', {'ALEGRIA': True, 'MEDO': False}],\n",
       " ['finalmente completar o coleção maravilhoso',\n",
       "  {'ALEGRIA': True, 'MEDO': False}],\n",
       " ['suar rei', {'ALEGRIA': True, 'MEDO': False}],\n",
       " ['satisfatoriamente anunciar o vencedor jogo',\n",
       "  {'ALEGRIA': True, 'MEDO': False}],\n",
       " ['atrair facilmente', {'ALEGRIA': True, 'MEDO': False}],\n",
       " ['rapaz e extremamente atraente', {'ALEGRIA': True, 'MEDO': False}],\n",
       " ['sinto-me vivo', {'ALEGRIA': True, 'MEDO': False}],\n",
       " ['sinto-me paz', {'ALEGRIA': True, 'MEDO': False}],\n",
       " ['lucrar', {'ALEGRIA': True, 'MEDO': False}],\n",
       " ['ordem', {'ALEGRIA': True, 'MEDO': False}],\n",
       " ['arrumar empregar junto', {'ALEGRIA': True, 'MEDO': False}],\n",
       " ['o arrumação terminar alívio', {'ALEGRIA': True, 'MEDO': False}],\n",
       " ['o câncer benigno', {'ALEGRIA': True, 'MEDO': False}],\n",
       " ['o amor abundante', {'ALEGRIA': True, 'MEDO': False}],\n",
       " ['caridoso natal', {'ALEGRIA': True, 'MEDO': False}],\n",
       " ['charme irar atrair o', {'ALEGRIA': True, 'MEDO': False}],\n",
       " ['comer charmoso querer', {'ALEGRIA': True, 'MEDO': False}],\n",
       " ['querido amigo', {'ALEGRIA': True, 'MEDO': False}],\n",
       " ['cuidadoso o sentimento', {'ALEGRIA': True, 'MEDO': False}],\n",
       " ['comover tamanho caridade', {'ALEGRIA': True, 'MEDO': False}],\n",
       " ['chá quentar e reconfortante', {'ALEGRIA': True, 'MEDO': False}],\n",
       " ['alegria', {'ALEGRIA': True, 'MEDO': False}],\n",
       " ['aplaudir o vencedor', {'ALEGRIA': True, 'MEDO': False}],\n",
       " ['palmar parir o aniversariante', {'ALEGRIA': True, 'MEDO': False}],\n",
       " ['desejar o', {'ALEGRIA': True, 'MEDO': False}],\n",
       " ['horar apreciar vinho', {'ALEGRIA': True, 'MEDO': False}],\n",
       " ['apreciar suar presença escola', {'ALEGRIA': True, 'MEDO': False}],\n",
       " ['ansiar trabalho', {'ALEGRIA': True, 'MEDO': False}],\n",
       " ['maravilhoso jogar amistoso', {'ALEGRIA': True, 'MEDO': False}],\n",
       " ['e ótimo o menimos apaziguar', {'ALEGRIA': True, 'MEDO': False}],\n",
       " ['concretizar finalmente sonhar', {'ALEGRIA': True, 'MEDO': False}],\n",
       " ['implorar matar', {'ALEGRIA': False, 'MEDO': True}],\n",
       " ['perigoso', {'ALEGRIA': False, 'MEDO': True}],\n",
       " ['segurar', {'ALEGRIA': False, 'MEDO': True}],\n",
       " ['correr pra', {'ALEGRIA': False, 'MEDO': True}],\n",
       " ['socorrer querer roubar o doce', {'ALEGRIA': False, 'MEDO': True}],\n",
       " ['caro perseguir', {'ALEGRIA': False, 'MEDO': True}],\n",
       " ['entrar perigoso', {'ALEGRIA': False, 'MEDO': True}],\n",
       " ['continuar assustador', {'ALEGRIA': False, 'MEDO': True}],\n",
       " ['o selva animar perigoso', {'ALEGRIA': False, 'MEDO': True}],\n",
       " ['avançar cautela', {'ALEGRIA': False, 'MEDO': True}],\n",
       " ['silencioso cuidar', {'ALEGRIA': False, 'MEDO': True}],\n",
       " ['deixe-me viver', {'ALEGRIA': False, 'MEDO': True}],\n",
       " ['ficar mesada tirar noto', {'ALEGRIA': False, 'MEDO': True}],\n",
       " ['parecer olho o vigiar', {'ALEGRIA': False, 'MEDO': True}],\n",
       " ['o sentença juiz negativo', {'ALEGRIA': False, 'MEDO': True}],\n",
       " ['missão arriscar', {'ALEGRIA': False, 'MEDO': True}],\n",
       " ['salvem-se', {'ALEGRIA': False, 'MEDO': True}],\n",
       " ['planar descobrir', {'ALEGRIA': False, 'MEDO': True}],\n",
       " ['culpar jurar', {'ALEGRIA': False, 'MEDO': True}],\n",
       " ['tomar cuidar o lobisomem', {'ALEGRIA': False, 'MEDO': True}],\n",
       " ['achar descobrir o verdade', {'ALEGRIA': False, 'MEDO': True}],\n",
       " ['deus desaparecer', {'ALEGRIA': False, 'MEDO': True}],\n",
       " ['tomar d', {'ALEGRIA': False, 'MEDO': True}],\n",
       " ['manter segredar descobrir ferrar', {'ALEGRIA': False, 'MEDO': True}],\n",
       " ['soltar inocentar', {'ALEGRIA': False, 'MEDO': True}],\n",
       " ['ouvir passo mim', {'ALEGRIA': False, 'MEDO': True}],\n",
       " ['pedir socorrer', {'ALEGRIA': False, 'MEDO': True}],\n",
       " ['cuidar o curvo o estrar', {'ALEGRIA': False, 'MEDO': True}],\n",
       " ['parecer perigoso', {'ALEGRIA': False, 'MEDO': True}],\n",
       " ['tremer medo', {'ALEGRIA': False, 'MEDO': True}],\n",
       " ['socorrer cair', {'ALEGRIA': False, 'MEDO': True}],\n",
       " ['o florestar negro perigoso', {'ALEGRIA': False, 'MEDO': True}],\n",
       " ['ouvir passo o direção', {'ALEGRIA': False, 'MEDO': True}],\n",
       " ['achar arriscar', {'ALEGRIA': False, 'MEDO': True}],\n",
       " ['voltar perigoso', {'ALEGRIA': False, 'MEDO': True}],\n",
       " ['fugir acabar morto', {'ALEGRIA': False, 'MEDO': True}],\n",
       " ['recear livrar d situação', {'ALEGRIA': False, 'MEDO': True}],\n",
       " ['socorrer armar', {'ALEGRIA': False, 'MEDO': True}],\n",
       " ['eis cuidar bater o postar', {'ALEGRIA': False, 'MEDO': True}],\n",
       " ['socorrer nó afundar', {'ALEGRIA': False, 'MEDO': True}],\n",
       " ['e sério cuidar armar', {'ALEGRIA': False, 'MEDO': True}],\n",
       " ['o tubarão atacar', {'ALEGRIA': False, 'MEDO': True}],\n",
       " ['sentir arrepio ficar o escuro', {'ALEGRIA': False, 'MEDO': True}],\n",
       " ['calmo o dinheiro', {'ALEGRIA': False, 'MEDO': True}],\n",
       " ['achar enganar', {'ALEGRIA': False, 'MEDO': True}],\n",
       " ['ligeiro fugir depressa', {'ALEGRIA': False, 'MEDO': True}],\n",
       " ['crocodilo selvagem vir parir', {'ALEGRIA': False, 'MEDO': True}],\n",
       " ['ficar o achar', {'ALEGRIA': False, 'MEDO': True}],\n",
       " ['fugir o tigre parecer faminto', {'ALEGRIA': False, 'MEDO': True}],\n",
       " ['sair precisar milagre', {'ALEGRIA': False, 'MEDO': True}],\n",
       " ['tirar mim socorrer', {'ALEGRIA': False, 'MEDO': True}],\n",
       " ['nadar afogar', {'ALEGRIA': False, 'MEDO': True}],\n",
       " ['e segurar', {'ALEGRIA': False, 'MEDO': True}],\n",
       " ['apanhar pai boletim', {'ALEGRIA': False, 'MEDO': True}],\n",
       " ['conseguir sair d', {'ALEGRIA': False, 'MEDO': True}],\n",
       " ['sair tardar assaltar', {'ALEGRIA': False, 'MEDO': True}],\n",
       " ['deixar', {'ALEGRIA': False, 'MEDO': True}],\n",
       " ['esperar largar', {'ALEGRIA': False, 'MEDO': True}],\n",
       " ['pelar suar segurança', {'ALEGRIA': False, 'MEDO': True}],\n",
       " ['entregar o dinheiro matar', {'ALEGRIA': False, 'MEDO': True}],\n",
       " ['levar o dinheiro', {'ALEGRIA': False, 'MEDO': True}],\n",
       " ['dirigir rápido', {'ALEGRIA': False, 'MEDO': True}],\n",
       " ['descobrir prender', {'ALEGRIA': False, 'MEDO': True}],\n",
       " ['esperar nenhum', {'ALEGRIA': False, 'MEDO': True}],\n",
       " ['afogar ajudar o sair água', {'ALEGRIA': False, 'MEDO': True}],\n",
       " ['o salvar', {'ALEGRIA': False, 'MEDO': True}],\n",
       " ['querer pensar o acontecer', {'ALEGRIA': False, 'MEDO': True}],\n",
       " ['n cidade umar desgraçar outro', {'ALEGRIA': False, 'MEDO': True}],\n",
       " ['alguém ligar assustar', {'ALEGRIA': False, 'MEDO': True}],\n",
       " ['remedio matar', {'ALEGRIA': False, 'MEDO': True}],\n",
       " ['confiar n cautela', {'ALEGRIA': False, 'MEDO': True}],\n",
       " ['cautela', {'ALEGRIA': False, 'MEDO': True}],\n",
       " ['descobrir deus', {'ALEGRIA': False, 'MEDO': True}],\n",
       " ['recear', {'ALEGRIA': False, 'MEDO': True}],\n",
       " ['o noite e perigoso', {'ALEGRIA': False, 'MEDO': True}],\n",
       " ['estremecer casar', {'ALEGRIA': False, 'MEDO': True}],\n",
       " ['olhar criatura mover monstruosamente', {'ALEGRIA': False, 'MEDO': True}],\n",
       " ['aguentar suspense', {'ALEGRIA': False, 'MEDO': True}],\n",
       " ['afugentar o cão', {'ALEGRIA': False, 'MEDO': True}],\n",
       " ['chocar e amedrontar assassinato brutal', {'ALEGRIA': False, 'MEDO': True}],\n",
       " ['precisar afugentar ímpeto medo infernar', {'ALEGRIA': False, 'MEDO': True}],\n",
       " ['político suar forçar parir afugentar e amedrontar o',\n",
       "  {'ALEGRIA': False, 'MEDO': True}],\n",
       " ['o objetivo d e amedrontar', {'ALEGRIA': False, 'MEDO': True}],\n",
       " ['apavorar', {'ALEGRIA': False, 'MEDO': True}]]"
      ]
     },
     "execution_count": 54,
     "metadata": {},
     "output_type": "execute_result"
    }
   ],
   "source": [
    "base_dados_final"
   ]
  },
  {
   "cell_type": "markdown",
   "metadata": {},
   "source": [
    "## **Etapa 5: Criação do classificador**"
   ]
  },
  {
   "cell_type": "code",
   "execution_count": 56,
   "metadata": {},
   "outputs": [],
   "source": [
    "# o spacy por \"trás dos panos\" trabalha com redes neurais\n",
    "modelo = spacy.blank('pt')  # função blank() serve para inicializar um novo modelo em branco\n",
    "categorias = modelo.create_pipe('textcat')\n",
    "categorias.add_label('ALEGRIA')\n",
    "categorias.add_label('MEDO')\n",
    "modelo.add_pipe(categorias)\n",
    "historico = []"
   ]
  },
  {
   "cell_type": "code",
   "execution_count": 58,
   "metadata": {},
   "outputs": [
    {
     "name": "stdout",
     "output_type": "stream",
     "text": [
      "{'textcat': 0.00715910381404683}\n",
      "{'textcat': 7.953491376611055e-08}\n",
      "{'textcat': 3.1534598932125846e-08}\n",
      "{'textcat': 1.335503696520135e-08}\n",
      "{'textcat': 9.400245637447568e-09}\n",
      "{'textcat': 6.614138708949113e-09}\n",
      "{'textcat': 4.805459474788165e-09}\n",
      "{'textcat': 3.4738416310187148e-09}\n",
      "{'textcat': 2.7091373866472424e-09}\n",
      "{'textcat': 2.649849673019844e-09}\n"
     ]
    }
   ],
   "source": [
    "modelo.begin_training()  # iniciando o treinamento\n",
    "\n",
    "for epoca in range(1000): # definindo a qtd de epocas em 1000\n",
    "    random.shuffle(base_dados_final)  # função shuffle realiza a \"mistura\" dos dados, pois as frases de alegria estao no comeco e medo no final, então será misturado\n",
    "    losses = {}\n",
    "    for batch in spacy.util.minibatch(base_dados_final, 30):  # será passado para a rede neural com batch no tamanho de 30 (30 em 30 registros será atualizado os pesos)\n",
    "        textos = [modelo(texto) for texto, entities in batch]\n",
    "        annotations = [{'cats': entities} for texto, entities in batch]  # a lista annotations terá as categorias (entidades)\n",
    "        modelo.update(textos, annotations, losses=losses)\n",
    "    if epoca % 100 == 0:\n",
    "        print(losses)\n",
    "        historico.append(losses)"
   ]
  },
  {
   "cell_type": "code",
   "execution_count": 60,
   "metadata": {},
   "outputs": [],
   "source": [
    "historico_loss = []\n",
    "for i in historico:\n",
    "    historico_loss.append(i.get('textcat'))"
   ]
  },
  {
   "cell_type": "code",
   "execution_count": 62,
   "metadata": {},
   "outputs": [
    {
     "data": {
      "text/plain": [
       "array([7.15910381e-03, 7.95349138e-08, 3.15345989e-08, 1.33550370e-08,\n",
       "       9.40024564e-09, 6.61413871e-09, 4.80545947e-09, 3.47384163e-09,\n",
       "       2.70913739e-09, 2.64984967e-09])"
      ]
     },
     "execution_count": 62,
     "metadata": {},
     "output_type": "execute_result"
    }
   ],
   "source": [
    "historico_loss = np.array(historico_loss)\n",
    "historico_loss"
   ]
  },
  {
   "cell_type": "code",
   "execution_count": 63,
   "metadata": {},
   "outputs": [
    {
     "data": {
      "text/plain": [
       "Text(0, 0.5, 'Erro')"
      ]
     },
     "execution_count": 63,
     "metadata": {},
     "output_type": "execute_result"
    },
    {
     "data": {
      "image/png": "[encoded data removed]",
      "text/plain": [
       "<Figure size 432x288 with 1 Axes>"
      ]
     },
     "metadata": {
      "needs_background": "light"
     },
     "output_type": "display_data"
    }
   ],
   "source": [
    "import matplotlib.pyplot as plt\n",
    "plt.plot(historico_loss)\n",
    "plt.title('Progressão do erro')\n",
    "plt.xlabel('Épocas')\n",
    "plt.ylabel('Erro')"
   ]
  },
  {
   "cell_type": "code",
   "execution_count": 68,
   "metadata": {},
   "outputs": [],
   "source": [
    "# salvando o modelo treinando em disco, com o nome 'modelo'\n",
    "modelo.to_disk('modelo')"
   ]
  },
  {
   "cell_type": "markdown",
   "metadata": {},
   "source": [
    "## **Etapa 6: Testes com uma frase**"
   ]
  },
  {
   "cell_type": "code",
   "execution_count": 69,
   "metadata": {},
   "outputs": [
    {
     "data": {
      "text/plain": [
       "<spacy.lang.pt.Portuguese at 0x7ff120d34ef0>"
      ]
     },
     "execution_count": 69,
     "metadata": {},
     "output_type": "execute_result"
    }
   ],
   "source": [
    "# carregando o modelo treinado anteriormente\n",
    "modelo_carregado = spacy.load('modelo')\n",
    "modelo_carregado"
   ]
  },
  {
   "cell_type": "code",
   "execution_count": 70,
   "metadata": {},
   "outputs": [],
   "source": [
    "texto_positivo = 'eu adoro cor dos seus olhos'"
   ]
  },
  {
   "cell_type": "code",
   "execution_count": 71,
   "metadata": {},
   "outputs": [
    {
     "data": {
      "text/plain": [
       "'adorar cor olho'"
      ]
     },
     "execution_count": 71,
     "metadata": {},
     "output_type": "execute_result"
    }
   ],
   "source": [
    "texto_positivo = preprocessamento(texto_positivo)\n",
    "texto_positivo"
   ]
  },
  {
   "cell_type": "code",
   "execution_count": 72,
   "metadata": {},
   "outputs": [
    {
     "data": {
      "text/plain": [
       "adorar cor olho"
      ]
     },
     "execution_count": 72,
     "metadata": {},
     "output_type": "execute_result"
    }
   ],
   "source": [
    "previsao = modelo_carregado(texto_positivo)\n",
    "previsao"
   ]
  },
  {
   "cell_type": "code",
   "execution_count": 74,
   "metadata": {},
   "outputs": [
    {
     "data": {
      "text/plain": [
       "{'ALEGRIA': 0.9979573488235474, 'MEDO': 0.000135861337184906}"
      ]
     },
     "execution_count": 74,
     "metadata": {},
     "output_type": "execute_result"
    }
   ],
   "source": [
    "previsao.cats"
   ]
  },
  {
   "cell_type": "code",
   "execution_count": 75,
   "metadata": {},
   "outputs": [
    {
     "data": {
      "text/plain": [
       "{'ALEGRIA': 4.539787187241018e-05, 'MEDO': 0.9999545812606812}"
      ]
     },
     "execution_count": 75,
     "metadata": {},
     "output_type": "execute_result"
    }
   ],
   "source": [
    "texto_negativo = 'estou com medo dele'\n",
    "previsao = modelo_carregado(preprocessamento(texto_negativo))\n",
    "previsao.cats"
   ]
  },
  {
   "cell_type": "markdown",
   "metadata": {},
   "source": [
    "## **Etapa 7: Avaliação do modelo**"
   ]
  },
  {
   "cell_type": "markdown",
   "metadata": {},
   "source": [
    "#### Avaliação na base de treinamento"
   ]
  },
  {
   "cell_type": "code",
   "execution_count": 77,
   "metadata": {},
   "outputs": [],
   "source": [
    "previsoes = []\n",
    "for texto in base_dados['texto']:\n",
    "    # print(texto)\n",
    "    previsao = modelo_carregado(texto)\n",
    "    previsoes.append(previsao.cats)"
   ]
  },
  {
   "cell_type": "code",
   "execution_count": 78,
   "metadata": {},
   "outputs": [
    {
     "data": {
      "text/plain": [
       "[{'ALEGRIA': 0.9996703863143921, 'MEDO': 0.0002415059570921585},\n",
       " {'ALEGRIA': 0.9998471736907959, 'MEDO': 0.0003244358522351831},\n",
       " {'ALEGRIA': 0.9995326995849609, 'MEDO': 0.00026434092433191836},\n",
       " {'ALEGRIA': 0.9998774528503418, 'MEDO': 0.00016693507495801896},\n",
       " {'ALEGRIA': 0.9998711347579956, 'MEDO': 8.451813482679427e-05},\n",
       " {'ALEGRIA': 0.9995357990264893, 'MEDO': 0.00019833864644169807},\n",
       " {'ALEGRIA': 0.9996919631958008, 'MEDO': 0.0003093854757025838},\n",
       " {'ALEGRIA': 0.9998911619186401, 'MEDO': 0.00013921476784162223},\n",
       " {'ALEGRIA': 0.9998478889465332, 'MEDO': 0.00029385150992311537},\n",
       " {'ALEGRIA': 0.9997401833534241, 'MEDO': 0.000324562075547874},\n",
       " {'ALEGRIA': 0.9999545812606812, 'MEDO': 4.539787187241018e-05},\n",
       " {'ALEGRIA': 0.9996832609176636, 'MEDO': 0.00017012754688039422},\n",
       " {'ALEGRIA': 0.9997727274894714, 'MEDO': 0.0005198364960961044},\n",
       " {'ALEGRIA': 0.9997887015342712, 'MEDO': 0.00012999425234738737},\n",
       " {'ALEGRIA': 0.9996285438537598, 'MEDO': 0.00022152069141156971},\n",
       " {'ALEGRIA': 0.9999467134475708, 'MEDO': 8.921184053178877e-05},\n",
       " {'ALEGRIA': 0.9997161030769348, 'MEDO': 0.00030318289645947516},\n",
       " {'ALEGRIA': 0.9999545812606812, 'MEDO': 4.539787187241018e-05},\n",
       " {'ALEGRIA': 0.9999004602432251, 'MEDO': 0.00019363606406841427},\n",
       " {'ALEGRIA': 0.9995403289794922, 'MEDO': 0.00032496830681338906},\n",
       " {'ALEGRIA': 0.9999545812606812, 'MEDO': 4.539787187241018e-05},\n",
       " {'ALEGRIA': 0.99957674741745, 'MEDO': 0.0002155593829229474},\n",
       " {'ALEGRIA': 0.999721109867096, 'MEDO': 0.0003964980714954436},\n",
       " {'ALEGRIA': 0.9999545812606812, 'MEDO': 0.00012690899893641472},\n",
       " {'ALEGRIA': 0.9999545812606812, 'MEDO': 4.539787187241018e-05},\n",
       " {'ALEGRIA': 0.9996551275253296, 'MEDO': 0.0007954103639349341},\n",
       " {'ALEGRIA': 0.9998137354850769, 'MEDO': 8.377469930564985e-05},\n",
       " {'ALEGRIA': 0.9999545812606812, 'MEDO': 4.539787187241018e-05},\n",
       " {'ALEGRIA': 0.9996681213378906, 'MEDO': 0.00043353351065889},\n",
       " {'ALEGRIA': 0.9997414946556091, 'MEDO': 0.00021928749629296362},\n",
       " {'ALEGRIA': 0.9996185302734375, 'MEDO': 0.0003947039076592773},\n",
       " {'ALEGRIA': 0.9996591806411743, 'MEDO': 0.00030568710644729435},\n",
       " {'ALEGRIA': 0.9993343949317932, 'MEDO': 0.00047990295570343733},\n",
       " {'ALEGRIA': 0.9996826648712158, 'MEDO': 0.00014033177285455167},\n",
       " {'ALEGRIA': 0.9995794892311096, 'MEDO': 0.0006560835754498839},\n",
       " {'ALEGRIA': 0.9997034668922424, 'MEDO': 0.00042179477168247104},\n",
       " {'ALEGRIA': 0.9998132586479187, 'MEDO': 0.0005797366029582918},\n",
       " {'ALEGRIA': 0.9992824196815491, 'MEDO': 0.0006684650434181094},\n",
       " {'ALEGRIA': 0.9999457597732544, 'MEDO': 0.00041073106694966555},\n",
       " {'ALEGRIA': 0.9997538924217224, 'MEDO': 0.00035979971289634705},\n",
       " {'ALEGRIA': 0.9992493987083435, 'MEDO': 0.00026529477327130735},\n",
       " {'ALEGRIA': 0.9997292160987854, 'MEDO': 0.0004416259762365371},\n",
       " {'ALEGRIA': 0.9998370409011841, 'MEDO': 4.539787187241018e-05},\n",
       " {'ALEGRIA': 0.9996247291564941, 'MEDO': 0.0004919996717944741},\n",
       " {'ALEGRIA': 0.9998540878295898, 'MEDO': 9.333798516308889e-05},\n",
       " {'ALEGRIA': 0.9998157620429993, 'MEDO': 4.539787187241018e-05},\n",
       " {'ALEGRIA': 0.9996834993362427, 'MEDO': 0.0003952466940972954},\n",
       " {'ALEGRIA': 0.9992769360542297, 'MEDO': 0.0004375943972263485},\n",
       " {'ALEGRIA': 0.999661922454834, 'MEDO': 0.000244700611801818},\n",
       " {'ALEGRIA': 0.9999233484268188, 'MEDO': 0.00016572703316342086},\n",
       " {'ALEGRIA': 0.999768078327179, 'MEDO': 0.0004238469700794667},\n",
       " {'ALEGRIA': 0.9998059868812561, 'MEDO': 8.894426719052717e-05},\n",
       " {'ALEGRIA': 0.9998457431793213, 'MEDO': 0.00027665754896588624},\n",
       " {'ALEGRIA': 0.9994753003120422, 'MEDO': 0.0002921918057836592},\n",
       " {'ALEGRIA': 0.9995442032814026, 'MEDO': 0.0005302936187945306},\n",
       " {'ALEGRIA': 0.9996289014816284, 'MEDO': 0.0004994124756194651},\n",
       " {'ALEGRIA': 0.9994511008262634, 'MEDO': 0.00031444724299944937},\n",
       " {'ALEGRIA': 0.9998488426208496, 'MEDO': 0.00011492931662360206},\n",
       " {'ALEGRIA': 0.9996658563613892, 'MEDO': 0.00028359852149151266},\n",
       " {'ALEGRIA': 0.9998838901519775, 'MEDO': 0.00033031831844709814},\n",
       " {'ALEGRIA': 0.9997941851615906, 'MEDO': 0.00020762458734679967},\n",
       " {'ALEGRIA': 0.9996671676635742, 'MEDO': 0.0003766336012631655},\n",
       " {'ALEGRIA': 0.99986732006073, 'MEDO': 9.607703395886347e-05},\n",
       " {'ALEGRIA': 0.9997193217277527, 'MEDO': 0.0003003725432790816},\n",
       " {'ALEGRIA': 0.9998239874839783, 'MEDO': 0.0004241005808580667},\n",
       " {'ALEGRIA': 0.9996379613876343, 'MEDO': 0.00020807565306313336},\n",
       " {'ALEGRIA': 0.9999545812606812, 'MEDO': 0.00016070051060523838},\n",
       " {'ALEGRIA': 0.9996492862701416, 'MEDO': 0.0002951478527393192},\n",
       " {'ALEGRIA': 0.9998432397842407, 'MEDO': 0.0003785565204452723},\n",
       " {'ALEGRIA': 0.9997757077217102, 'MEDO': 0.00033350507146678865},\n",
       " {'ALEGRIA': 0.9998676776885986, 'MEDO': 0.00028475080034695566},\n",
       " {'ALEGRIA': 0.9995612502098083, 'MEDO': 0.00027772574685513973},\n",
       " {'ALEGRIA': 0.9996393918991089, 'MEDO': 0.00042347845737822354},\n",
       " {'ALEGRIA': 0.9996098875999451, 'MEDO': 0.00016768455679994076},\n",
       " {'ALEGRIA': 0.9998350143432617, 'MEDO': 0.00044308704673312604},\n",
       " {'ALEGRIA': 0.999919056892395, 'MEDO': 0.0004188150051049888},\n",
       " {'ALEGRIA': 0.9998904466629028, 'MEDO': 0.00016096550098154694},\n",
       " {'ALEGRIA': 0.999645471572876, 'MEDO': 0.00021602313790936023},\n",
       " {'ALEGRIA': 0.9999545812606812, 'MEDO': 4.539787187241018e-05},\n",
       " {'ALEGRIA': 0.999234676361084, 'MEDO': 0.0004596070502884686},\n",
       " {'ALEGRIA': 0.9994789958000183, 'MEDO': 0.00033247016835957766},\n",
       " {'ALEGRIA': 0.9997106194496155, 'MEDO': 0.0003407206095289439},\n",
       " {'ALEGRIA': 0.9996943473815918, 'MEDO': 0.00013155121996533126},\n",
       " {'ALEGRIA': 0.9998958110809326, 'MEDO': 0.0003167350951116532},\n",
       " {'ALEGRIA': 0.9999545812606812, 'MEDO': 0.00010169662709813565},\n",
       " {'ALEGRIA': 0.9998891353607178, 'MEDO': 9.293867333326489e-05},\n",
       " {'ALEGRIA': 0.9998910427093506, 'MEDO': 6.178938929224387e-05},\n",
       " {'ALEGRIA': 0.9999483823776245, 'MEDO': 0.00017387093976140022},\n",
       " {'ALEGRIA': 0.9997677206993103, 'MEDO': 0.00040193446329794824},\n",
       " {'ALEGRIA': 0.9996230602264404, 'MEDO': 0.0005873190239071846},\n",
       " {'ALEGRIA': 0.9995108842849731, 'MEDO': 0.0003564370854292065},\n",
       " {'ALEGRIA': 0.9997230172157288, 'MEDO': 0.0003407150798011571},\n",
       " {'ALEGRIA': 0.9997391104698181, 'MEDO': 0.00022342658485285938},\n",
       " {'ALEGRIA': 0.9994615912437439, 'MEDO': 0.00041985578718595207},\n",
       " {'ALEGRIA': 0.9998764991760254, 'MEDO': 7.361169264186174e-05},\n",
       " {'ALEGRIA': 0.9996839761734009, 'MEDO': 0.0005967722972854972},\n",
       " {'ALEGRIA': 0.9999480247497559, 'MEDO': 7.312753587029874e-05},\n",
       " {'ALEGRIA': 0.9999545812606812, 'MEDO': 0.00013742275768890977},\n",
       " {'ALEGRIA': 0.9999545812606812, 'MEDO': 4.539787187241018e-05},\n",
       " {'ALEGRIA': 0.9993463158607483, 'MEDO': 0.00045183126349002123},\n",
       " {'ALEGRIA': 0.9995858073234558, 'MEDO': 0.0003239286597818136},\n",
       " {'ALEGRIA': 0.9995858073234558, 'MEDO': 0.00042546962504275143},\n",
       " {'ALEGRIA': 0.9997708201408386, 'MEDO': 0.00011908477608812973},\n",
       " {'ALEGRIA': 0.9998811483383179, 'MEDO': 8.130187779897824e-05},\n",
       " {'ALEGRIA': 0.9998756647109985, 'MEDO': 0.00010193896741839126},\n",
       " {'ALEGRIA': 0.9999545812606812, 'MEDO': 8.795466419542208e-05},\n",
       " {'ALEGRIA': 0.9999545812606812, 'MEDO': 4.539787187241018e-05},\n",
       " {'ALEGRIA': 0.9998144507408142, 'MEDO': 0.0005412844475358725},\n",
       " {'ALEGRIA': 0.9997686743736267, 'MEDO': 0.000282857014099136},\n",
       " {'ALEGRIA': 0.9999545812606812, 'MEDO': 5.475930083775893e-05},\n",
       " {'ALEGRIA': 0.9997379183769226, 'MEDO': 0.0003669901052489877},\n",
       " {'ALEGRIA': 0.9999415874481201, 'MEDO': 8.687932859174907e-05},\n",
       " {'ALEGRIA': 0.00019146379781886935, 'MEDO': 0.999634861946106},\n",
       " {'ALEGRIA': 0.0004657062527257949, 'MEDO': 0.9993999004364014},\n",
       " {'ALEGRIA': 4.539787187241018e-05, 'MEDO': 0.9999545812606812},\n",
       " {'ALEGRIA': 0.00026576718664728105, 'MEDO': 0.9996113181114197},\n",
       " {'ALEGRIA': 5.3351028327597305e-05, 'MEDO': 0.9999545812606812},\n",
       " {'ALEGRIA': 9.114071872318164e-05, 'MEDO': 0.9999545812606812},\n",
       " {'ALEGRIA': 0.00011965013982262462, 'MEDO': 0.999805748462677},\n",
       " {'ALEGRIA': 0.00030259639606811106, 'MEDO': 0.9996434450149536},\n",
       " {'ALEGRIA': 0.0004094156320206821, 'MEDO': 0.9997432827949524},\n",
       " {'ALEGRIA': 4.539787187241018e-05, 'MEDO': 0.9999545812606812},\n",
       " {'ALEGRIA': 4.539787187241018e-05, 'MEDO': 0.9997276663780212},\n",
       " {'ALEGRIA': 0.0002502902934793383, 'MEDO': 0.9997499585151672},\n",
       " {'ALEGRIA': 0.0001024391531245783, 'MEDO': 0.9999545812606812},\n",
       " {'ALEGRIA': 0.0009294584742747247, 'MEDO': 0.9991503953933716},\n",
       " {'ALEGRIA': 0.0003086577635258436, 'MEDO': 0.9999183416366577},\n",
       " {'ALEGRIA': 4.539787187241018e-05, 'MEDO': 0.9999545812606812},\n",
       " {'ALEGRIA': 4.539787187241018e-05, 'MEDO': 0.9999545812606812},\n",
       " {'ALEGRIA': 0.00010708016634453088, 'MEDO': 0.9995966553688049},\n",
       " {'ALEGRIA': 8.091406925814226e-05, 'MEDO': 0.9996747970581055},\n",
       " {'ALEGRIA': 0.00038132333429530263, 'MEDO': 0.9994331002235413},\n",
       " {'ALEGRIA': 0.0003985502989962697, 'MEDO': 0.9998565912246704},\n",
       " {'ALEGRIA': 0.00029785308288410306, 'MEDO': 0.9997887015342712},\n",
       " {'ALEGRIA': 6.151336128823459e-05, 'MEDO': 0.9999417066574097},\n",
       " {'ALEGRIA': 0.00014322162314783782, 'MEDO': 0.9996142387390137},\n",
       " {'ALEGRIA': 8.466381405014545e-05, 'MEDO': 0.999890923500061},\n",
       " {'ALEGRIA': 0.00019662555132526904, 'MEDO': 0.9995336532592773},\n",
       " {'ALEGRIA': 0.0002814425970427692, 'MEDO': 0.9996546506881714},\n",
       " {'ALEGRIA': 0.000520220142789185, 'MEDO': 0.9994193315505981},\n",
       " {'ALEGRIA': 5.6591812608530745e-05, 'MEDO': 0.9996127486228943},\n",
       " {'ALEGRIA': 0.0005437712534330785, 'MEDO': 0.9998189806938171},\n",
       " {'ALEGRIA': 4.539787187241018e-05, 'MEDO': 0.9999545812606812},\n",
       " {'ALEGRIA': 0.0003282254619989544, 'MEDO': 0.9997525811195374},\n",
       " {'ALEGRIA': 0.0005208185175433755, 'MEDO': 0.9997548460960388},\n",
       " {'ALEGRIA': 0.0005543462466448545, 'MEDO': 0.9996346235275269},\n",
       " {'ALEGRIA': 6.836182001279667e-05, 'MEDO': 0.9995847344398499},\n",
       " {'ALEGRIA': 8.792941662250087e-05, 'MEDO': 0.9998655319213867},\n",
       " {'ALEGRIA': 0.0005307646933943033, 'MEDO': 0.9997521042823792},\n",
       " {'ALEGRIA': 4.539787187241018e-05, 'MEDO': 0.9999545812606812},\n",
       " {'ALEGRIA': 0.00025269793695770204, 'MEDO': 0.9997779726982117},\n",
       " {'ALEGRIA': 4.539787187241018e-05, 'MEDO': 0.9999545812606812},\n",
       " {'ALEGRIA': 0.00016428848903160542, 'MEDO': 0.9995098114013672},\n",
       " {'ALEGRIA': 0.0003132342535536736, 'MEDO': 0.9997286200523376},\n",
       " {'ALEGRIA': 0.0006395421223714948, 'MEDO': 0.9994083642959595},\n",
       " {'ALEGRIA': 0.0005157902487553656, 'MEDO': 0.9993361830711365},\n",
       " {'ALEGRIA': 0.0002105248422594741, 'MEDO': 0.9997071623802185},\n",
       " {'ALEGRIA': 0.0001897098118206486, 'MEDO': 0.9997246861457825},\n",
       " {'ALEGRIA': 0.00043770120828412473, 'MEDO': 0.9995504021644592},\n",
       " {'ALEGRIA': 0.00012059087021043524, 'MEDO': 0.9998669624328613},\n",
       " {'ALEGRIA': 0.00016861384210642427, 'MEDO': 0.9998935461044312},\n",
       " {'ALEGRIA': 4.539787187241018e-05, 'MEDO': 0.9999545812606812},\n",
       " {'ALEGRIA': 0.00031013056286610663, 'MEDO': 0.9997461438179016},\n",
       " {'ALEGRIA': 7.17390066711232e-05, 'MEDO': 0.9999545812606812},\n",
       " {'ALEGRIA': 0.0006291137542575598, 'MEDO': 0.9996057152748108},\n",
       " {'ALEGRIA': 0.0004920130013488233, 'MEDO': 0.9996891021728516},\n",
       " {'ALEGRIA': 4.539787187241018e-05, 'MEDO': 0.9999545812606812},\n",
       " {'ALEGRIA': 4.539787187241018e-05, 'MEDO': 0.9999545812606812},\n",
       " {'ALEGRIA': 9.192917787004262e-05, 'MEDO': 0.9995254278182983},\n",
       " {'ALEGRIA': 4.539787187241018e-05, 'MEDO': 0.99973064661026},\n",
       " {'ALEGRIA': 0.0006105009815655649, 'MEDO': 0.999566376209259},\n",
       " {'ALEGRIA': 6.102945189923048e-05, 'MEDO': 0.9999545812606812},\n",
       " {'ALEGRIA': 0.0004175921203568578, 'MEDO': 0.9995083808898926},\n",
       " {'ALEGRIA': 0.00012631260324269533, 'MEDO': 0.9999209642410278},\n",
       " {'ALEGRIA': 4.539787187241018e-05, 'MEDO': 0.9999545812606812},\n",
       " {'ALEGRIA': 0.00024420185945928097, 'MEDO': 0.9997566342353821},\n",
       " {'ALEGRIA': 0.0002471145708113909, 'MEDO': 0.9999545812606812},\n",
       " {'ALEGRIA': 0.0006676586344838142, 'MEDO': 0.9993382096290588},\n",
       " {'ALEGRIA': 0.0006479013245552778, 'MEDO': 0.9992875456809998},\n",
       " {'ALEGRIA': 0.0001213520736200735, 'MEDO': 0.9996065497398376},\n",
       " {'ALEGRIA': 0.0005736524472013116, 'MEDO': 0.9995952248573303},\n",
       " {'ALEGRIA': 0.0004946770495735109, 'MEDO': 0.9995272159576416},\n",
       " {'ALEGRIA': 0.0006807025638408959, 'MEDO': 0.99947589635849},\n",
       " {'ALEGRIA': 5.273272472550161e-05, 'MEDO': 0.9997894167900085},\n",
       " {'ALEGRIA': 4.539787187241018e-05, 'MEDO': 0.9999545812606812},\n",
       " {'ALEGRIA': 0.00039858909440226853, 'MEDO': 0.9995904564857483},\n",
       " {'ALEGRIA': 0.0011226566275581717, 'MEDO': 0.9991763234138489},\n",
       " {'ALEGRIA': 0.0003531563270371407, 'MEDO': 0.9998992681503296},\n",
       " {'ALEGRIA': 0.0004728325584437698, 'MEDO': 0.9997045397758484},\n",
       " {'ALEGRIA': 0.00011058217205572873, 'MEDO': 0.9999545812606812},\n",
       " {'ALEGRIA': 0.0008519470575265586, 'MEDO': 0.999398946762085},\n",
       " {'ALEGRIA': 0.0008723916253075004, 'MEDO': 0.9990683197975159},\n",
       " {'ALEGRIA': 7.890971028245986e-05, 'MEDO': 0.9996724128723145},\n",
       " {'ALEGRIA': 0.00024105091870296746, 'MEDO': 0.9995225667953491},\n",
       " {'ALEGRIA': 0.0003782286075875163, 'MEDO': 0.9995643496513367},\n",
       " {'ALEGRIA': 0.000494816864375025, 'MEDO': 0.9992764592170715}]"
      ]
     },
     "execution_count": 78,
     "metadata": {},
     "output_type": "execute_result"
    }
   ],
   "source": [
    "previsoes"
   ]
  },
  {
   "cell_type": "code",
   "execution_count": 81,
   "metadata": {},
   "outputs": [],
   "source": [
    "previsoes_final = []\n",
    "for previsao in previsoes:\n",
    "    if previsao['ALEGRIA'] > previsao['MEDO']:\n",
    "        previsoes_final.append('alegria')\n",
    "    else:\n",
    "        previsoes_final.append('medo')\n",
    "    \n",
    "previsoes_final = np.array(previsoes_final)"
   ]
  },
  {
   "cell_type": "code",
   "execution_count": 82,
   "metadata": {},
   "outputs": [
    {
     "data": {
      "text/plain": [
       "array(['alegria', 'alegria', 'alegria', 'alegria', 'alegria', 'alegria',\n",
       "       'alegria', 'alegria', 'alegria', 'alegria', 'alegria', 'alegria',\n",
       "       'alegria', 'alegria', 'alegria', 'alegria', 'alegria', 'alegria',\n",
       "       'alegria', 'alegria', 'alegria', 'alegria', 'alegria', 'alegria',\n",
       "       'alegria', 'alegria', 'alegria', 'alegria', 'alegria', 'alegria',\n",
       "       'alegria', 'alegria', 'alegria', 'alegria', 'alegria', 'alegria',\n",
       "       'alegria', 'alegria', 'alegria', 'alegria', 'alegria', 'alegria',\n",
       "       'alegria', 'alegria', 'alegria', 'alegria', 'alegria', 'alegria',\n",
       "       'alegria', 'alegria', 'alegria', 'alegria', 'alegria', 'alegria',\n",
       "       'alegria', 'alegria', 'alegria', 'alegria', 'alegria', 'alegria',\n",
       "       'alegria', 'alegria', 'alegria', 'alegria', 'alegria', 'alegria',\n",
       "       'alegria', 'alegria', 'alegria', 'alegria', 'alegria', 'alegria',\n",
       "       'alegria', 'alegria', 'alegria', 'alegria', 'alegria', 'alegria',\n",
       "       'alegria', 'alegria', 'alegria', 'alegria', 'alegria', 'alegria',\n",
       "       'alegria', 'alegria', 'alegria', 'alegria', 'alegria', 'alegria',\n",
       "       'alegria', 'alegria', 'alegria', 'alegria', 'alegria', 'alegria',\n",
       "       'alegria', 'alegria', 'alegria', 'alegria', 'alegria', 'alegria',\n",
       "       'alegria', 'alegria', 'alegria', 'alegria', 'alegria', 'alegria',\n",
       "       'alegria', 'alegria', 'alegria', 'alegria', 'medo', 'medo', 'medo',\n",
       "       'medo', 'medo', 'medo', 'medo', 'medo', 'medo', 'medo', 'medo',\n",
       "       'medo', 'medo', 'medo', 'medo', 'medo', 'medo', 'medo', 'medo',\n",
       "       'medo', 'medo', 'medo', 'medo', 'medo', 'medo', 'medo', 'medo',\n",
       "       'medo', 'medo', 'medo', 'medo', 'medo', 'medo', 'medo', 'medo',\n",
       "       'medo', 'medo', 'medo', 'medo', 'medo', 'medo', 'medo', 'medo',\n",
       "       'medo', 'medo', 'medo', 'medo', 'medo', 'medo', 'medo', 'medo',\n",
       "       'medo', 'medo', 'medo', 'medo', 'medo', 'medo', 'medo', 'medo',\n",
       "       'medo', 'medo', 'medo', 'medo', 'medo', 'medo', 'medo', 'medo',\n",
       "       'medo', 'medo', 'medo', 'medo', 'medo', 'medo', 'medo', 'medo',\n",
       "       'medo', 'medo', 'medo', 'medo', 'medo', 'medo', 'medo', 'medo',\n",
       "       'medo'], dtype='<U7')"
      ]
     },
     "execution_count": 82,
     "metadata": {},
     "output_type": "execute_result"
    }
   ],
   "source": [
    "previsoes_final"
   ]
  },
  {
   "cell_type": "code",
   "execution_count": 83,
   "metadata": {},
   "outputs": [
    {
     "data": {
      "text/plain": [
       "array(['alegria', 'alegria', 'alegria', 'alegria', 'alegria', 'alegria',\n",
       "       'alegria', 'alegria', 'alegria', 'alegria', 'alegria', 'alegria',\n",
       "       'alegria', 'alegria', 'alegria', 'alegria', 'alegria', 'alegria',\n",
       "       'alegria', 'alegria', 'alegria', 'alegria', 'alegria', 'alegria',\n",
       "       'alegria', 'alegria', 'alegria', 'alegria', 'alegria', 'alegria',\n",
       "       'alegria', 'alegria', 'alegria', 'alegria', 'alegria', 'alegria',\n",
       "       'alegria', 'alegria', 'alegria', 'alegria', 'alegria', 'alegria',\n",
       "       'alegria', 'alegria', 'alegria', 'alegria', 'alegria', 'alegria',\n",
       "       'alegria', 'alegria', 'alegria', 'alegria', 'alegria', 'alegria',\n",
       "       'alegria', 'alegria', 'alegria', 'alegria', 'alegria', 'alegria',\n",
       "       'alegria', 'alegria', 'alegria', 'alegria', 'alegria', 'alegria',\n",
       "       'alegria', 'alegria', 'alegria', 'alegria', 'alegria', 'alegria',\n",
       "       'alegria', 'alegria', 'alegria', 'alegria', 'alegria', 'alegria',\n",
       "       'alegria', 'alegria', 'alegria', 'alegria', 'alegria', 'alegria',\n",
       "       'alegria', 'alegria', 'alegria', 'alegria', 'alegria', 'alegria',\n",
       "       'alegria', 'alegria', 'alegria', 'alegria', 'alegria', 'alegria',\n",
       "       'alegria', 'alegria', 'alegria', 'alegria', 'alegria', 'alegria',\n",
       "       'alegria', 'alegria', 'alegria', 'alegria', 'alegria', 'alegria',\n",
       "       'alegria', 'alegria', 'alegria', 'alegria', 'medo', 'medo', 'medo',\n",
       "       'medo', 'medo', 'medo', 'medo', 'medo', 'medo', 'medo', 'medo',\n",
       "       'medo', 'medo', 'medo', 'medo', 'medo', 'medo', 'medo', 'medo',\n",
       "       'medo', 'medo', 'medo', 'medo', 'medo', 'medo', 'medo', 'medo',\n",
       "       'medo', 'medo', 'medo', 'medo', 'medo', 'medo', 'medo', 'medo',\n",
       "       'medo', 'medo', 'medo', 'medo', 'medo', 'medo', 'medo', 'medo',\n",
       "       'medo', 'medo', 'medo', 'medo', 'medo', 'medo', 'medo', 'medo',\n",
       "       'medo', 'medo', 'medo', 'medo', 'medo', 'medo', 'medo', 'medo',\n",
       "       'medo', 'medo', 'medo', 'medo', 'medo', 'medo', 'medo', 'medo',\n",
       "       'medo', 'medo', 'medo', 'medo', 'medo', 'medo', 'medo', 'medo',\n",
       "       'medo', 'medo', 'medo', 'medo', 'medo', 'medo', 'medo', 'medo',\n",
       "       'medo'], dtype=object)"
      ]
     },
     "execution_count": 83,
     "metadata": {},
     "output_type": "execute_result"
    }
   ],
   "source": [
    "respostas_reais = base_dados['emocao'].values\n",
    "respostas_reais"
   ]
  },
  {
   "cell_type": "code",
   "execution_count": 85,
   "metadata": {},
   "outputs": [
    {
     "data": {
      "text/plain": [
       "1.0"
      ]
     },
     "execution_count": 85,
     "metadata": {},
     "output_type": "execute_result"
    }
   ],
   "source": [
    "from sklearn.metrics import confusion_matrix, accuracy_score\n",
    "accuracy_score(respostas_reais, previsoes_final)"
   ]
  },
  {
   "cell_type": "code",
   "execution_count": 86,
   "metadata": {},
   "outputs": [
    {
     "data": {
      "text/plain": [
       "array([[112,   0],\n",
       "       [  0,  84]])"
      ]
     },
     "execution_count": 86,
     "metadata": {},
     "output_type": "execute_result"
    }
   ],
   "source": [
    "cm = confusion_matrix(respostas_reais, previsoes_final)\n",
    "cm"
   ]
  },
  {
   "cell_type": "markdown",
   "metadata": {},
   "source": [
    "#### Avaliação na base de treinamento"
   ]
  },
  {
   "cell_type": "code",
   "execution_count": 88,
   "metadata": {},
   "outputs": [],
   "source": [
    "base_dados_teste = pd.read_csv('/home/lucas/Documentos/Cursos/Udemy/Processamento de Linguagem Natural com spaCy e Python/1_Introdução/base_teste.txt')"
   ]
  },
  {
   "cell_type": "code",
   "execution_count": 90,
   "metadata": {},
   "outputs": [
    {
     "data": {
      "text/html": [
       "<div>\n",
       "<style scoped>\n",
       "    .dataframe tbody tr th:only-of-type {\n",
       "        vertical-align: middle;\n",
       "    }\n",
       "\n",
       "    .dataframe tbody tr th {\n",
       "        vertical-align: top;\n",
       "    }\n",
       "\n",
       "    .dataframe thead th {\n",
       "        text-align: right;\n",
       "    }\n",
       "</style>\n",
       "<table border=\"1\" class=\"dataframe\">\n",
       "  <thead>\n",
       "    <tr style=\"text-align: right;\">\n",
       "      <th></th>\n",
       "      <th>texto</th>\n",
       "      <th>emocao</th>\n",
       "    </tr>\n",
       "  </thead>\n",
       "  <tbody>\n",
       "    <tr>\n",
       "      <th>0</th>\n",
       "      <td>não precisei pagar o ingresso</td>\n",
       "      <td>alegria</td>\n",
       "    </tr>\n",
       "    <tr>\n",
       "      <th>1</th>\n",
       "      <td>se eu ajeitar tudo fica bem</td>\n",
       "      <td>alegria</td>\n",
       "    </tr>\n",
       "    <tr>\n",
       "      <th>2</th>\n",
       "      <td>minha fortuna ultrapassará a sua</td>\n",
       "      <td>alegria</td>\n",
       "    </tr>\n",
       "    <tr>\n",
       "      <th>3</th>\n",
       "      <td>sou muito afortunado</td>\n",
       "      <td>alegria</td>\n",
       "    </tr>\n",
       "    <tr>\n",
       "      <th>4</th>\n",
       "      <td>é benéfico para todos esta nova medida</td>\n",
       "      <td>alegria</td>\n",
       "    </tr>\n",
       "  </tbody>\n",
       "</table>\n",
       "</div>"
      ],
      "text/plain": [
       "                                    texto   emocao\n",
       "0           não precisei pagar o ingresso  alegria\n",
       "1             se eu ajeitar tudo fica bem  alegria\n",
       "2        minha fortuna ultrapassará a sua  alegria\n",
       "3                    sou muito afortunado  alegria\n",
       "4  é benéfico para todos esta nova medida  alegria"
      ]
     },
     "execution_count": 90,
     "metadata": {},
     "output_type": "execute_result"
    }
   ],
   "source": [
    "base_dados_teste.head()"
   ]
  },
  {
   "cell_type": "code",
   "execution_count": 91,
   "metadata": {},
   "outputs": [],
   "source": [
    "base_dados_teste['texto'] = base_dados_teste['texto'].apply(preprocessamento)"
   ]
  },
  {
   "cell_type": "code",
   "execution_count": 92,
   "metadata": {},
   "outputs": [
    {
     "data": {
      "text/html": [
       "<div>\n",
       "<style scoped>\n",
       "    .dataframe tbody tr th:only-of-type {\n",
       "        vertical-align: middle;\n",
       "    }\n",
       "\n",
       "    .dataframe tbody tr th {\n",
       "        vertical-align: top;\n",
       "    }\n",
       "\n",
       "    .dataframe thead th {\n",
       "        text-align: right;\n",
       "    }\n",
       "</style>\n",
       "<table border=\"1\" class=\"dataframe\">\n",
       "  <thead>\n",
       "    <tr style=\"text-align: right;\">\n",
       "      <th></th>\n",
       "      <th>texto</th>\n",
       "      <th>emocao</th>\n",
       "    </tr>\n",
       "  </thead>\n",
       "  <tbody>\n",
       "    <tr>\n",
       "      <th>0</th>\n",
       "      <td>precisar pagar o ingressar</td>\n",
       "      <td>alegria</td>\n",
       "    </tr>\n",
       "    <tr>\n",
       "      <th>1</th>\n",
       "      <td>ajeitar ficar</td>\n",
       "      <td>alegria</td>\n",
       "    </tr>\n",
       "    <tr>\n",
       "      <th>2</th>\n",
       "      <td>fortuna ultrapassar o suar</td>\n",
       "      <td>alegria</td>\n",
       "    </tr>\n",
       "    <tr>\n",
       "      <th>3</th>\n",
       "      <td>afortunar</td>\n",
       "      <td>alegria</td>\n",
       "    </tr>\n",
       "    <tr>\n",
       "      <th>4</th>\n",
       "      <td>benéfico parir medir</td>\n",
       "      <td>alegria</td>\n",
       "    </tr>\n",
       "  </tbody>\n",
       "</table>\n",
       "</div>"
      ],
      "text/plain": [
       "                        texto   emocao\n",
       "0  precisar pagar o ingressar  alegria\n",
       "1               ajeitar ficar  alegria\n",
       "2  fortuna ultrapassar o suar  alegria\n",
       "3                   afortunar  alegria\n",
       "4        benéfico parir medir  alegria"
      ]
     },
     "execution_count": 92,
     "metadata": {},
     "output_type": "execute_result"
    }
   ],
   "source": [
    "base_dados_teste.head()"
   ]
  },
  {
   "cell_type": "code",
   "execution_count": 94,
   "metadata": {},
   "outputs": [],
   "source": [
    "previsoes = []\n",
    "for texto in base_dados_teste['texto']:\n",
    "    # print(texto)\n",
    "    previsao = modelo_carregado(texto)\n",
    "    previsoes.append(previsao.cats)"
   ]
  },
  {
   "cell_type": "code",
   "execution_count": 95,
   "metadata": {},
   "outputs": [],
   "source": [
    "previsoes_final = []\n",
    "for previsao in previsoes:\n",
    "    if previsao['ALEGRIA'] > previsao['MEDO']:\n",
    "        previsoes_final.append('alegria')\n",
    "    else:\n",
    "        previsoes_final.append('medo')\n",
    "\n",
    "previsoes_final = np.array(previsoes_final)"
   ]
  },
  {
   "cell_type": "code",
   "execution_count": 96,
   "metadata": {},
   "outputs": [],
   "source": [
    "respostas_reais = base_dados_teste['emocao'].values"
   ]
  },
  {
   "cell_type": "code",
   "execution_count": 97,
   "metadata": {},
   "outputs": [
    {
     "data": {
      "text/plain": [
       "0.5357142857142857"
      ]
     },
     "execution_count": 97,
     "metadata": {},
     "output_type": "execute_result"
    }
   ],
   "source": [
    "accuracy_score(respostas_reais, previsoes_final)"
   ]
  },
  {
   "cell_type": "code",
   "execution_count": 98,
   "metadata": {},
   "outputs": [
    {
     "data": {
      "text/plain": [
       "array([[34, 14],\n",
       "       [25, 11]])"
      ]
     },
     "execution_count": 98,
     "metadata": {},
     "output_type": "execute_result"
    }
   ],
   "source": [
    "cm = confusion_matrix(respostas_reais, previsoes_final)\n",
    "cm"
   ]
  },
  {
   "cell_type": "code",
   "execution_count": null,
   "metadata": {},
   "outputs": [],
   "source": []
  }
 ],
 "metadata": {
  "kernelspec": {
   "display_name": "Python 3",
   "language": "python",
   "name": "python3"
  },
  "language_info": {
   "codemirror_mode": {
    "name": "ipython",
    "version": 3
   },
   "file_extension": ".py",
   "mimetype": "text/x-python",
   "name": "python",
   "nbconvert_exporter": "python",
   "pygments_lexer": "ipython3",
   "version": "3.7.4"
  }
 },
 "nbformat": 4,
 "nbformat_minor": 4
}
